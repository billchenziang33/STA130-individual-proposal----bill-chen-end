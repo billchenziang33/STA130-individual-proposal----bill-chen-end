{
 "cells": [
  {
   "cell_type": "markdown",
   "id": "6e4659fc",
   "metadata": {},
   "source": [
    "# STA130 individual proposal\n",
    "\n",
    "In my STA 130 individual proposal, I plan to explore the impact of COVID-19 on people's happiness and feelings of self-worth. \n",
    "Specifically, I will analyze the following three relationships using different statistical methods.\n",
    "\n",
    "First, I will examine how the extent to which people reduced in-person contact during the pandemic (COVID_reduce_people) affects their life satisfaction (WELLNESS_life_satisfaction). I will extract the relevant data from the original dataset and use Python to compute descriptive statistics like mean, median, mode, and standard deviation.\n",
    "\n",
    "By creating a box plot, I can visualize the distribution of life satisfaction scores. I will then conduct an ANOVA (analysis of variance) to test the null hypothesis that the means are the same across all categories of COVID_reduce_people. The alternative hypothesis is that at least one category has a different mean in WELLNESS_life_satisfaction. Using the \"statsmodels\" library in Python, I will calculate the p-value and compare it with a significance level of 0.05 to decide whether to reject the null hypothesis.\n",
    "\n",
    "Second, I will analyze the relationship between the frequency of receiving texts or messages (CONNECTION_activities_text_or_messaged_p3m) and feelings of worthlessness (WELLNESS_worthless). I will use Python's groupby() function to group the data by each level of CONNECTION_activities_text_or_messaged_p3m, assigning specific numbers to each level (Never=0, Almost never=1, Rarely=2, Sometimes=3, Often=4, Very often=5). By calculating the mean of WELLNESS_worthless for each group, I can build confidence intervals using Python code. \n",
    "\n",
    "I will then check whether the confidence intervals for the means overlap among different levels. If they overlap, it suggests a high possibility that these two variables are related. Non-overlapping intervals indicate a significant difference between categories.\n",
    "\n",
    "Third, I will perform a linear regression analysis between COVID_reduce_people and WELLNESS_life_satisfaction. I will convert the categorical data in COVID_reduce_people to numerical values (Not at all=0, Somewhat closely=1, Very close=2) and set it as the independent variable, with WELLNESS_life_satisfaction as the dependent variable. \n",
    "\n",
    "Using Python, I will build the linear regression model to obtain the coefficient, p-value, and R-squared value. If the R-squared value approaches 1, it means the model fits well, indicating a high relevance between these two variables. Otherwise, a low R-squared suggests the model does not fit well, and the variables may not be highly related.\n",
    "\n",
    "As for group collaboration, I prefer to work with Shiqi Lan from the same tutorial class. We have previously completed some presentations together, and since we share the same mother tongue—Mandarin—it will be more effective for us to communicate and collaborate on this topic."
   ]
  }
 ],
 "metadata": {
  "kernelspec": {
   "display_name": "Python 3 (ipykernel)",
   "language": "python",
   "name": "python3"
  },
  "language_info": {
   "codemirror_mode": {
    "name": "ipython",
    "version": 3
   },
   "file_extension": ".py",
   "mimetype": "text/x-python",
   "name": "python",
   "nbconvert_exporter": "python",
   "pygments_lexer": "ipython3",
   "version": "3.11.6"
  }
 },
 "nbformat": 4,
 "nbformat_minor": 5
}
